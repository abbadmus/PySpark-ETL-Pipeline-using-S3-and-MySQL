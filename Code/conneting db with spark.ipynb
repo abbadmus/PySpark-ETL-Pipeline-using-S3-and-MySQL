{
 "cells": [
  {
   "cell_type": "code",
   "execution_count": 11,
   "id": "5bef0f20-f730-4861-a3e0-c78c5167234a",
   "metadata": {},
   "outputs": [
    {
     "name": "stdout",
     "output_type": "stream",
     "text": [
      "Collecting pymysql\n",
      "  Downloading PyMySQL-1.0.2-py3-none-any.whl (43 kB)\n",
      "\u001b[2K     \u001b[90m━━━━━━━━━━━━━━━━━━━━━━━━━━━━━━━━━━━━━━━━\u001b[0m \u001b[32m43.8/43.8 kB\u001b[0m \u001b[31m1.3 MB/s\u001b[0m eta \u001b[36m0:00:00\u001b[0m\n",
      "\u001b[?25hInstalling collected packages: pymysql\n",
      "Successfully installed pymysql-1.0.2\n"
     ]
    }
   ],
   "source": [
    "# pip install mysql.connector"
   ]
  },
  {
   "cell_type": "code",
   "execution_count": 4,
   "id": "886bd8b5-cf31-4bda-82f8-4e9d3f4c48c1",
   "metadata": {},
   "outputs": [],
   "source": [
    "import mysql.connector"
   ]
  },
  {
   "cell_type": "code",
   "execution_count": 7,
   "id": "776b0f4d-5a48-404a-92ff-cbfbeee913dc",
   "metadata": {},
   "outputs": [],
   "source": [
    "connect_obj = mysql.connector.connect(host= 'host.docker.internal', user=\"root\", password=\"\")"
   ]
  },
  {
   "cell_type": "code",
   "execution_count": 8,
   "id": "ceb5b625-6018-4023-ab9f-b3186cd5fd50",
   "metadata": {},
   "outputs": [],
   "source": [
    "db_cursor = connect_obj.cursor()"
   ]
  },
  {
   "cell_type": "code",
   "execution_count": 10,
   "id": "d0605daa-9c97-4603-8c22-8afe64d178f7",
   "metadata": {},
   "outputs": [],
   "source": [
    "db_cursor.execute(\"CREATE DATABASE flightdata;\")"
   ]
  },
  {
   "cell_type": "code",
   "execution_count": 11,
   "id": "8bc8a246-d01a-45bd-9926-dd01015fc1f3",
   "metadata": {},
   "outputs": [],
   "source": [
    "import pyspark\n",
    "from pyspark.sql import SparkSession"
   ]
  },
  {
   "cell_type": "code",
   "execution_count": 12,
   "id": "ae0c88bc-11cc-4cdb-91f3-13c4149026ff",
   "metadata": {},
   "outputs": [],
   "source": [
    "spark= SparkSession.builder.config('spark.jars.packages', 'mysql:mysql-connector-java:8.0.28') \\\n",
    ".master(\"local\").appName(\"pyspark sql\").getOrCreate()\n",
    "# \"spark.jars\", \"mysql-connector-java-8.0.28.jar\""
   ]
  },
  {
   "cell_type": "code",
   "execution_count": 13,
   "id": "eda85971-758d-45d4-a0da-05961963aa24",
   "metadata": {},
   "outputs": [],
   "source": [
    "airlineDF = spark.read.option(\"header\",\"true\").csv(\"../data/....csv\")"
   ]
  },
  {
   "cell_type": "code",
   "execution_count": 14,
   "id": "34f716be-818b-4188-953c-7e543c17c701",
   "metadata": {},
   "outputs": [],
   "source": [
    "airlineDF2 = airlineDF.select(\"_c0\",\"Year\",\"Quarter\", \"Month\", \"DayofMonth\", \"DayofWeek\" , \\\n",
    "                              \"FlightDate\",\"Reporting_Airline\",\"DOT_ID_Reporting_Airline\", \\\n",
    "                              \"OriginCityName\" , \"OriginState\", \"OriginStateFips\", \"OriginStateName\", \\\n",
    "                              \"Distance\" , \"DistanceGroup\",\"CarrierDelay\",\"WeatherDelay\", \"NASDelay\")"
   ]
  },
  {
   "cell_type": "code",
   "execution_count": 15,
   "id": "03040b0f-548c-48ab-bc26-1f8ee1e8fccd",
   "metadata": {},
   "outputs": [],
   "source": [
    "airlineDF2.write.format('jdbc').options(\n",
    "      url='jdbc:mysql://host.docker.internal:3306/flight',\n",
    "      driver='com.mysql.jdbc.Driver',\n",
    "      dbtable='flight',\n",
    "      user='root',\n",
    "      password='').mode('append').save()"
   ]
  },
  {
   "cell_type": "code",
   "execution_count": null,
   "id": "1c82798b-945a-40c2-bae1-060daea506ca",
   "metadata": {},
   "outputs": [],
   "source": []
  },
  {
   "cell_type": "code",
   "execution_count": null,
   "id": "f243cf1e-853e-4349-a798-5ebaf298b713",
   "metadata": {},
   "outputs": [],
   "source": []
  }
 ],
 "metadata": {
  "kernelspec": {
   "display_name": "Python 3 (ipykernel)",
   "language": "python",
   "name": "python3"
  },
  "language_info": {
   "codemirror_mode": {
    "name": "ipython",
    "version": 3
   },
   "file_extension": ".py",
   "mimetype": "text/x-python",
   "name": "python",
   "nbconvert_exporter": "python",
   "pygments_lexer": "ipython3",
   "version": "3.10.4"
  }
 },
 "nbformat": 4,
 "nbformat_minor": 5
}
