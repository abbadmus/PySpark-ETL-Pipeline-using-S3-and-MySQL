{
 "cells": [
  {
   "cell_type": "code",
   "execution_count": null,
   "id": "f443deea-ef90-4603-abfd-611047b8eb41",
   "metadata": {
    "tags": []
   },
   "outputs": [],
   "source": [
    "from pyspark import SQLContext\n",
    "from pyspark.sql import Row"
   ]
  },
  {
   "cell_type": "code",
   "execution_count": null,
   "id": "73f8aa6c-b0d6-415a-a58f-204f7d329250",
   "metadata": {},
   "outputs": [],
   "source": [
    "import os\n",
    "os.environ['PYSPARK_SUBMIT_ARGS'] = \"--packages=org.apache.hadoop:hadoop-aws:2.7.3 pyspark-shell\""
   ]
  },
  {
   "cell_type": "code",
   "execution_count": null,
   "id": "81d7150a-3af1-4dfe-b2c8-c15a144cad16",
   "metadata": {},
   "outputs": [],
   "source": [
    "access_id = \"<>\"\n",
    "access_key = \"<>\""
   ]
  },
  {
   "cell_type": "code",
   "execution_count": null,
   "id": "dbba7938-4caf-4fb5-b896-5127cab2117f",
   "metadata": {},
   "outputs": [],
   "source": [
    "import pyspark\n",
    "\n",
    "sc=pyspark.SparkContext()\n",
    "\n",
    "hadoop_conf=sc._jsc.hadoopConfiguration()"
   ]
  },
  {
   "cell_type": "code",
   "execution_count": null,
   "id": "85304be0-d6f6-45ee-98d9-1a9d51f7ac9d",
   "metadata": {},
   "outputs": [],
   "source": [
    "hadoop_conf.set(\"fs.s3a.impl\", \"org.apache.hadoop.fs.s3native.NativeS3FileSystem\")\n",
    "hadoop_conf.set(\"fs.s3a.awsAccessKeyId\", access_id)\n",
    "hadoop_conf.set(\"fs.s3a.awsSecretAccessKey\", access_key)\n",
    "hadoop_conf.set(\"fs.s3.buffer.dir\", \"${hadoop.tmp.dir}/s3\")\n",
    "hadoop_conf.set(\"fs.s3a.buffer.dir\", \"${hadoop.tmp.dir}/s3a\")"
   ]
  },
  {
   "cell_type": "code",
   "execution_count": null,
   "id": "cd045337-553f-499b-a00e-9bd6add4a983",
   "metadata": {},
   "outputs": [],
   "source": [
    "df=sc.textFile(\"s3a://.....csv\")"
   ]
  },
  {
   "cell_type": "code",
   "execution_count": null,
   "id": "867f95d9-d976-4f1d-a9ad-557f5a736999",
   "metadata": {
    "tags": []
   },
   "outputs": [],
   "source": [
    "df.collect()"
   ]
  },
  {
   "cell_type": "code",
   "execution_count": null,
   "id": "b88d7f2c-05ca-4bab-adc8-ff871d1761f5",
   "metadata": {},
   "outputs": [],
   "source": [
    "Ardd = df.map(lambda x: x.replace(\", \", \" \").split(\",\")).filter(lambda x: x[1] != \"Year\")"
   ]
  },
  {
   "cell_type": "code",
   "execution_count": null,
   "id": "fe624fab-04b6-4819-aab3-4246cd5b8c87",
   "metadata": {},
   "outputs": [],
   "source": [
    "airlineRdd = Ardd.map(lambda x: Row(Year=x[1], FlightDate= x[6]))"
   ]
  },
  {
   "cell_type": "code",
   "execution_count": null,
   "id": "8057eaeb-6573-4daa-82a4-2c7dc9116b11",
   "metadata": {
    "tags": []
   },
   "outputs": [],
   "source": [
    "airlineRdd.collect()"
   ]
  },
  {
   "cell_type": "code",
   "execution_count": null,
   "id": "5a8ece13-d075-4c36-b80b-c6bf3e4c5535",
   "metadata": {},
   "outputs": [],
   "source": [
    "sqlContex = SQLContext(sc)"
   ]
  },
  {
   "cell_type": "code",
   "execution_count": null,
   "id": "edaa1b19-1174-4179-be2c-d97bf00184f6",
   "metadata": {},
   "outputs": [],
   "source": [
    "airlineDf = sqlContex.createDataFrame(airlineRdd)"
   ]
  },
  {
   "cell_type": "code",
   "execution_count": null,
   "id": "d0e14559-b30a-4269-9e35-c78902671231",
   "metadata": {
    "tags": []
   },
   "outputs": [],
   "source": [
    "airlineDf.select(\"Year\", \"FlightDate\").show(10)"
   ]
  },
  {
   "cell_type": "code",
   "execution_count": null,
   "id": "1e36cbb0-8c74-4001-91e1-31e77d433b89",
   "metadata": {},
   "outputs": [],
   "source": [
    "airlineDf.select(\"Year\").groupBy(\"Year\").count().show(10)"
   ]
  },
  {
   "cell_type": "code",
   "execution_count": null,
   "id": "66d4c64e-a454-4a5b-9764-0aab4654032a",
   "metadata": {},
   "outputs": [],
   "source": [
    "toRDD = airlineDf.rdd"
   ]
  },
  {
   "cell_type": "code",
   "execution_count": null,
   "id": "78ac6d51-13f8-4e24-9513-c748f31d50b0",
   "metadata": {
    "tags": []
   },
   "outputs": [],
   "source": [
    "toRDD.collect()"
   ]
  },
  {
   "cell_type": "code",
   "execution_count": null,
   "id": "3cfeabd1-7279-4a48-b0d7-4581f62480f3",
   "metadata": {},
   "outputs": [],
   "source": [
    "# save to s3\n",
    "toRDD.repartition(1).saveAsTextFile(\"s3a://f....\")"
   ]
  },
  {
   "cell_type": "code",
   "execution_count": null,
   "id": "7b951b4f-23bf-4f32-b3b2-061e43b2c1af",
   "metadata": {},
   "outputs": [],
   "source": []
  }
 ],
 "metadata": {
  "kernelspec": {
   "display_name": "Python 3 (ipykernel)",
   "language": "python",
   "name": "python3"
  },
  "language_info": {
   "codemirror_mode": {
    "name": "ipython",
    "version": 3
   },
   "file_extension": ".py",
   "mimetype": "text/x-python",
   "name": "python",
   "nbconvert_exporter": "python",
   "pygments_lexer": "ipython3",
   "version": "3.10.4"
  }
 },
 "nbformat": 4,
 "nbformat_minor": 5
}
